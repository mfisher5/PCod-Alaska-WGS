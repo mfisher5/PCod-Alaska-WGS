{
 "cells": [
  {
   "cell_type": "markdown",
   "metadata": {},
   "source": [
    "## Test Alignment - WGS bam files to ACod genome\n",
    "\n",
    "Chris Frazar at the Northwest Genomics Center (at UW) is completing the bioinformatics for this project. When he aligns demultiplexes `.bam` files to the Atlantic cod genome using the Burrows-Wheeler Aligner (BWA-MEM), there is a 40% alignment rate. A full description of the NWGC WGS methods can be found [here]().\n",
    "\n",
    "While this is within the range of alignment rates we get from RAD data when aligning demultiplexed, filtered reads to a *de novo* Pacific cod reference, I want to verify that the change in aligner program is not producing a low alignment rate. \n",
    "\n",
    "In this notebook, I:\n",
    "\n",
    "1. Download two .bam files\n",
    "2. Create Bowtie2 reference database for Atlantic cod genome (gadMor2)\n",
    "2. Align to gadMor2 with Bowtie2\n",
    "\n",
    "<br>\n",
    "#### 5/21/2018\n",
    "\n",
    "### Downloading data files\n",
    "\n",
    "Downloads are from https://aspera.gs.washington.edu/aspera/user\n",
    "\n",
    "For username and password, see local files in the `raw_data` folder.\n",
    "\n",
    "This requires the Aspera web browser plug in, so I used Windows 7 on Dan's computer to download online data. I then moved the data to Kristen's computer in this git repo, `raw_data` folder.\n",
    "\n",
    "I then converted the `.bam` files to `fastq` files for `bowtie2` using `samtools`."
   ]
  },
  {
   "cell_type": "code",
   "execution_count": 1,
   "metadata": {},
   "outputs": [
    {
     "name": "stdout",
     "output_type": "stream",
     "text": [
      "/mnt/hgfs/PCod-Alaska-WGS/raw_data\n"
     ]
    }
   ],
   "source": [
    "cd ../raw_data"
   ]
  },
  {
   "cell_type": "code",
   "execution_count": 2,
   "metadata": {},
   "outputs": [
    {
     "name": "stdout",
     "output_type": "stream",
     "text": [
      "\u001b[0m\u001b[01;32mBLJWJAZXX.1.AACTATCT.AACTATCT.matefixed.sorted.bam\u001b[0m*  \u001b[01;32mPublic Aspera Access.docx\u001b[0m*\r\n",
      "\u001b[01;32mBLJWJAZXX.1.TTCTGAAT.TTCTGAAT.matefixed.sorted.bam\u001b[0m*\r\n"
     ]
    }
   ],
   "source": [
    "ls"
   ]
  },
  {
   "cell_type": "markdown",
   "metadata": {},
   "source": [
    "#### Convert .bam --> .fastq --> .fasta"
   ]
  },
  {
   "cell_type": "code",
   "execution_count": 3,
   "metadata": {},
   "outputs": [
    {
     "name": "stdout",
     "output_type": "stream",
     "text": [
      "/usr/local/bin/samtools\r\n"
     ]
    }
   ],
   "source": [
    "!which samtools"
   ]
  },
  {
   "cell_type": "code",
   "execution_count": 15,
   "metadata": {
    "scrolled": false
   },
   "outputs": [
    {
     "name": "stdout",
     "output_type": "stream",
     "text": [
      "[M::bam2fq_mainloop] discarded 0 singletons\r\n",
      "[M::bam2fq_mainloop] processed 3009484 reads\r\n"
     ]
    }
   ],
   "source": [
    "!samtools bam2fq BLJWJAZXX.1.AACTATCT.AACTATCT.matefixed.sorted.bam > test_bam1.fq"
   ]
  },
  {
   "cell_type": "code",
   "execution_count": 21,
   "metadata": {},
   "outputs": [
    {
     "name": "stdout",
     "output_type": "stream",
     "text": [
      "[M::bam2fq_mainloop] discarded 0 singletons\r\n",
      "[M::bam2fq_mainloop] processed 4330006 reads\r\n"
     ]
    }
   ],
   "source": [
    "!samtools bam2fq BLJWJAZXX.1.TTCTGAAT.TTCTGAAT.matefixed.sorted.bam > test_bam2.fq"
   ]
  },
  {
   "cell_type": "code",
   "execution_count": 17,
   "metadata": {},
   "outputs": [],
   "source": [
    "!sed -n '1~4s/^@/>/p;2~4p' test_bam1.fq > test_bam1.fa"
   ]
  },
  {
   "cell_type": "code",
   "execution_count": 22,
   "metadata": {
    "collapsed": true
   },
   "outputs": [],
   "source": [
    "!sed -n '1~4s/^@/>/p;2~4p' test_bam2.fq > test_bam2.fa"
   ]
  },
  {
   "cell_type": "markdown",
   "metadata": {},
   "source": [
    "#### Check to make sure sequences were converted correctly from bam to fastq file by opening sam file"
   ]
  },
  {
   "cell_type": "code",
   "execution_count": 18,
   "metadata": {
    "collapsed": true
   },
   "outputs": [],
   "source": [
    "!samtools view -h -o test1_bam.sam BLJWJAZXX.1.AACTATCT.AACTATCT.matefixed.sorted.bam"
   ]
  },
  {
   "cell_type": "code",
   "execution_count": 19,
   "metadata": {
    "scrolled": false
   },
   "outputs": [
    {
     "name": "stdout",
     "output_type": "stream",
     "text": [
      "BLJWJAZXX:1:2114:9853:3762\t77\t*\t0\t0\t*\t*\t0\t0\tCAGGTTAAGTACGCTATTCTCGGCC\tBBBBAFFFFDFFGGGGGGGGGGGGG\tRG:Z:BLJWJAZXX.1.AACTATCT.AACTATCT\r\n",
      "BLJWJAZXX:1:2114:9853:3762\t141\t*\t0\t0\t*\t*\t0\t0\tCAGGCACATACTCTGCCTCAAGGCC\tBAABCCFFFFFFFGGGGGGFFGGHH\tRG:Z:BLJWJAZXX.1.AACTATCT.AACTATCT\r\n",
      "BLJWJAZXX:1:2114:9860:4072\t77\t*\t0\t0\t*\t*\t0\t0\tATCGTTAGATCCATCACACGCTCAC\tCBCCCCCBFFFFGGGFGGGGGGGGH\tRG:Z:BLJWJAZXX.1.AACTATCT.AACTATCT\r\n",
      "BLJWJAZXX:1:2114:9860:4072\t141\t*\t0\t0\t*\t*\t0\t0\tCGTGTGCGTACCTTGTGTCTGTAAC\tAB>AAAFCCCCCGGGGGGGGGGGHH\tRG:Z:BLJWJAZXX.1.AACTATCT.AACTATCT\r\n",
      "BLJWJAZXX:1:2114:9865:20757\t77\t*\t0\t0\t*\t*\t0\t0\tAACCGGCACGCTTATTGATCAAAAG\t>11>>1A>1110A01B3B31B1110\tRG:Z:BLJWJAZXX.1.AACTATCT.AACTATCT\r\n",
      "BLJWJAZXX:1:2114:9865:20757\t141\t*\t0\t0\t*\t*\t0\t0\tGGACACGGATGTGTTGCGGCACGAT\t1111>B11>1>@131110AE00000\tRG:Z:BLJWJAZXX.1.AACTATCT.AACTATCT\r\n",
      "BLJWJAZXX:1:2114:9872:19454\t77\t*\t0\t0\t*\t*\t0\t0\tATTCCCCGTGCCCCCCTTCCCTGTC\t>A1>1DF?A111FFCE0FEGGFBG1\tRG:Z:BLJWJAZXX.1.AACTATCT.AACTATCT\r\n",
      "BLJWJAZXX:1:2114:9872:19454\t141\t*\t0\t0\t*\t*\t0\t0\tTTAAATACAAGCAAGGGCCTGGACG\t>AA1AFF1BCBAGFCFGGGGGGCGC\tRG:Z:BLJWJAZXX.1.AACTATCT.AACTATCT\r\n",
      "BLJWJAZXX:1:2114:9873:27882\t77\t*\t0\t0\t*\t*\t0\t0\tTCTCTTCTGCCTCTTTTTCCCGGTC\tAAABAFFFFFFFGGGGGGGGGGGGG\tRG:Z:BLJWJAZXX.1.AACTATCT.AACTATCT\r\n",
      "BLJWJAZXX:1:2114:9873:27882\t141\t*\t0\t0\t*\t*\t0\t0\tGAAAAGTATGGCGACGAGGAGGTTG\tABABBFFFFFFBGGGGGGGGGGFHH\tRG:Z:BLJWJAZXX.1.AACTATCT.AACTATCT\r\n",
      "BLJWJAZXX:1:2114:9916:4775\t77\t*\t0\t0\t*\t*\t0\t0\tGATCGGAAGAGCACACGTCTGAACT\tB@ABAABBAFFFGFGGEGCFFGHFH\tRG:Z:BLJWJAZXX.1.AACTATCT.AACTATCT\r\n",
      "BLJWJAZXX:1:2114:9916:4775\t141\t*\t0\t0\t*\t*\t0\t0\tGAGCGGAAAGGCGTGGTGTTGGGGG\t1>111>1>1111A000000000A##\tRG:Z:BLJWJAZXX.1.AACTATCT.AACTATCT\r\n",
      "BLJWJAZXX:1:2114:9923:16880\t77\t*\t0\t0\t*\t*\t0\t0\tAGTGGTGGTACGGTGCCGAGCTCCT\tABAA@FABBDF?EGGGGGGGGGHHH\tRG:Z:BLJWJAZXX.1.AACTATCT.AACTATCT\r\n",
      "BLJWJAZXX:1:2114:9923:16880\t141\t*\t0\t0\t*\t*\t0\t0\tGTAGATGGCACCTCCACAGTGCACC\t1>AAAFF1CCFAFFGGGGFGGCGHH\tRG:Z:BLJWJAZXX.1.AACTATCT.AACTATCT\r\n",
      "BLJWJAZXX:1:2114:9935:7143\t77\t*\t0\t0\t*\t*\t0\t0\tCACTTTCATATATATGATCTACCCC\t>11111BF3BD3333AF33331111\tRG:Z:BLJWJAZXX.1.AACTATCT.AACTATCT\r\n",
      "BLJWJAZXX:1:2114:9935:7143\t141\t*\t0\t0\t*\t*\t0\t0\tTTAATTAAGTGATCGTGTGTCAGAG\t>11113B1D@333A1111AA3331A\tRG:Z:BLJWJAZXX.1.AACTATCT.AACTATCT\r\n",
      "BLJWJAZXX:1:2114:9949:23717\t77\t*\t0\t0\t*\t*\t0\t0\tGATCGGAAGAGCACACGTCTGAACT\tBBBBCCDDCFFFGGGGGGGGGGHHH\tRG:Z:BLJWJAZXX.1.AACTATCT.AACTATCT\r\n",
      "BLJWJAZXX:1:2114:9949:23717\t141\t*\t0\t0\t*\t*\t0\t0\tGAACGGGAAAGGGGCGTGGAGGGGA\t11>>111>111111100000AAF/A\tRG:Z:BLJWJAZXX.1.AACTATCT.AACTATCT\r\n",
      "BLJWJAZXX:1:2114:9952:13947\t77\t*\t0\t0\t*\t*\t0\t0\tAATGGGAAAAATACTTTGTTTGGCG\tCCCCCFFFCFFFGGGGGGGGGGGHG\tRG:Z:BLJWJAZXX.1.AACTATCT.AACTATCT\r\n",
      "BLJWJAZXX:1:2114:9952:13947\t141\t*\t0\t0\t*\t*\t0\t0\tCATTTATCAGGAGCGAGGTGGGGGT\tBBBBBFFFFFFFGGGGGGAFGGGGE\tRG:Z:BLJWJAZXX.1.AACTATCT.AACTATCT\r\n"
     ]
    }
   ],
   "source": [
    "!tail -n 20 test1_bam.sam"
   ]
  },
  {
   "cell_type": "markdown",
   "metadata": {},
   "source": [
    "<br>\n",
    "<br>\n",
    "### Create bowtie2 database for gadMor2\n",
    "\n",
    "<br>\n",
    "Completed. This database includes linkage groups and scaffolds. For code used to create `Gadus_morhua2` database, see notebook: [Batch 8 - Outlier Alignment](https://github.com/mfisher5/PCod-Korea-repo/blob/master/notebooks/Batch%208%20-%20Outlier%20Alignment.ipynb)\n",
    "<br>\n",
    "*Alternative*: For database with linkage groups only, see notebook: [Align to ACod Genome - Batches 4 and 8.ipynb](https://github.com/mfisher5/PCod-Compare-repo/blob/master/notebooks/Align%20to%20ACod%20Genome%20-%20Batches%204%20and%208.ipynb)\n"
   ]
  },
  {
   "cell_type": "markdown",
   "metadata": {},
   "source": [
    "<br>\n",
    "<br>\n",
    "\n",
    "### Align to gadMor2 with bowtie2\n",
    "\n",
    "<br>\n",
    "*BLJWJAZXX.1.AACTATCT.AACTATCT.matefixed.sorted.bam*: Zhem16wB"
   ]
  },
  {
   "cell_type": "code",
   "execution_count": 24,
   "metadata": {},
   "outputs": [
    {
     "name": "stdout",
     "output_type": "stream",
     "text": [
      "3009484 reads; of these:\r\n",
      "  3009484 (100.00%) were unpaired; of these:\r\n",
      "    594112 (19.74%) aligned 0 times\r\n",
      "    1421550 (47.24%) aligned exactly 1 time\r\n",
      "    993822 (33.02%) aligned >1 times\r\n",
      "80.26% overall alignment rate\r\n"
     ]
    }
   ],
   "source": [
    "!bowtie2 -f \\\n",
    "-x ../../PCod-Compare-repo/ACod_reference/Gadus_morhua2 \\\n",
    "-U test_bam1.fa \\\n",
    "-S ../alignment/test_bam1_to_Acod.fa"
   ]
  },
  {
   "cell_type": "markdown",
   "metadata": {},
   "source": [
    "*BLJWJAZXX.1.TTCTGAAT.TTCTGAAT.matefixed.sorted.bam*: Near2005"
   ]
  },
  {
   "cell_type": "code",
   "execution_count": 25,
   "metadata": {},
   "outputs": [
    {
     "name": "stdout",
     "output_type": "stream",
     "text": [
      "4330006 reads; of these:\r\n",
      "  4330006 (100.00%) were unpaired; of these:\r\n",
      "    1158918 (26.76%) aligned 0 times\r\n",
      "    1867666 (43.13%) aligned exactly 1 time\r\n",
      "    1303422 (30.10%) aligned >1 times\r\n",
      "73.24% overall alignment rate\r\n"
     ]
    }
   ],
   "source": [
    "!bowtie2 -f \\\n",
    "-x ../../PCod-Compare-repo/ACod_reference/Gadus_morhua2 \\\n",
    "-U test_bam2.fa \\\n",
    "-S ../alignment/test_bam2_to_Acod.fa"
   ]
  },
  {
   "cell_type": "code",
   "execution_count": null,
   "metadata": {
    "collapsed": true
   },
   "outputs": [],
   "source": []
  }
 ],
 "metadata": {
  "kernelspec": {
   "display_name": "Python 2",
   "language": "python",
   "name": "python2"
  },
  "language_info": {
   "codemirror_mode": {
    "name": "ipython",
    "version": 2
   },
   "file_extension": ".py",
   "mimetype": "text/x-python",
   "name": "python",
   "nbconvert_exporter": "python",
   "pygments_lexer": "ipython2",
   "version": "2.7.13"
  }
 },
 "nbformat": 4,
 "nbformat_minor": 2
}
